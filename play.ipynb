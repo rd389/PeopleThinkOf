{
 "cells": [
  {
   "cell_type": "code",
   "execution_count": 1,
   "metadata": {
    "collapsed": false
   },
   "outputs": [
    {
     "name": "stderr",
     "output_type": "stream",
     "text": [
      "/Users/charles/anaconda2/envs/cs4300/lib/python2.7/site-packages/nltk/twitter/__init__.py:20: UserWarning: The twython library has not been installed. Some functionality from the twitter package will not be available.\n",
      "  warnings.warn(\"The twython library has not been installed. \"\n"
     ]
    }
   ],
   "source": [
    "import json\n",
    "import nltk\n",
    "from nltk.sentiment import vader\n",
    "from pprint import pprint"
   ]
  },
  {
   "cell_type": "code",
   "execution_count": 2,
   "metadata": {
    "collapsed": false
   },
   "outputs": [],
   "source": [
    "analyzer = vader.SentimentIntensityAnalyzer()"
   ]
  },
  {
   "cell_type": "code",
   "execution_count": 4,
   "metadata": {
    "collapsed": false
   },
   "outputs": [],
   "source": [
    "f = open('data.json')\n",
    "data = json.load(f)"
   ]
  },
  {
   "cell_type": "code",
   "execution_count": 5,
   "metadata": {
    "collapsed": false
   },
   "outputs": [],
   "source": [
    "class QAPair(object):\n",
    "    def __init__(self, op, AId, QId, AText):\n",
    "        self.op = op\n",
    "        self.asker = \"\"\n",
    "        self.AId = AId\n",
    "        self.QId = QId\n",
    "        self.AText = AText\n",
    "        self.QText = \"\"\n",
    "        \n",
    "def qa_scores(idx):\n",
    "    op = data[idx]\n",
    "    pprint(op[\"title\"])\n",
    "    print\n",
    "    comments = op[\"comments\"][::-1]\n",
    "    qa_pairs = {}\n",
    "    need = {}\n",
    "    for c in comments:\n",
    "        if c[\"author\"] == op[\"author\"]:\n",
    "            parent = c[\"parent_id\"][3:]\n",
    "            need[parent] = c[\"id\"]\n",
    "            qa_pairs[c[\"id\"]] = QAPair(c[\"author\"], c[\"id\"], parent, c['body'])\n",
    "        elif c[\"id\"] in need.keys():\n",
    "            answerId = need[c[\"id\"]]\n",
    "            if answerId in qa_pairs.keys():\n",
    "                comment_obj = qa_pairs[answerId]\n",
    "                comment_obj.asker = c['author']\n",
    "                comment_obj.QText = c['body']\n",
    "    for comment in qa_pairs.values():\n",
    "        pprint(\"Question: \" + comment.QText)\n",
    "        pprint(\"Sentiment Score: \" + str(analyzer.polarity_scores(comment.QText)))\n",
    "        print\n",
    "        pprint(\"Answer: \" + comment.AText)\n",
    "        pprint(\"Sentiment Score: \" + str(analyzer.polarity_scores(comment.AText)))\n",
    "        print\n",
    "        print \"=========================================\"\n",
    "        print"
   ]
  },
  {
   "cell_type": "markdown",
   "metadata": {},
   "source": [
    "# Use qa_scores(i) to get a quick and dirty look at Q&A pairs + scores, currently only works for posts in range i = [0,92] right now"
   ]
  },
  {
   "cell_type": "code",
   "execution_count": 12,
   "metadata": {
    "collapsed": false
   },
   "outputs": [
    {
     "name": "stdout",
     "output_type": "stream",
     "text": [
      "u'I am Barack Obama, President of the United States -- AMA'\n",
      "\n",
      "u\"Question: [We know how Republicans feel about protecting Internet Freedom](http://mashable.com/2012/08/29/republicans-internet-freedom/). Is Internet Freedom an issue you'd push to add to the Democratic Party's 2012 platform?\"\n",
      "\"Sentiment Score: {'neg': 0.0, 'neu': 0.846, 'pos': 0.154, 'compound': 0.6369}\"\n",
      "\n",
      "u\"Answer: Internet freedom is something I know you all care passionately about; I do too. We will fight hard to make sure that the internet remains the open forum for everybody - from those who are expressing an idea to those to want to start a business. And although there will be occasional disagreements on the details of various legislative proposals, I won't stray from that principle - and it will be reflected in the platform.\"\n",
      "\"Sentiment Score: {'neg': 0.083, 'neu': 0.742, 'pos': 0.175, 'compound': 0.8225}\"\n",
      "\n",
      "=========================================\n",
      "\n",
      "u\"Question: What is the first thing you'll do on November 7th, win or lose?\"\n",
      "\"Sentiment Score: {'neg': 0.154, 'neu': 0.629, 'pos': 0.217, 'compound': 0.2732}\"\n",
      "\n",
      "u\"Answer: Win or lose, I'll be thanking everybody who is working so hard - especially all the volunteers in field offices all across the country, and the amazing young people in our campaign offices.\"\n",
      "\"Sentiment Score: {'neg': 0.114, 'neu': 0.697, 'pos': 0.189, 'compound': 0.6167}\"\n",
      "\n",
      "=========================================\n",
      "\n",
      "u'Question: How do you balance family life and hobbies with, well, being the POTUS?'\n",
      "\"Sentiment Score: {'neg': 0.0, 'neu': 0.851, 'pos': 0.149, 'compound': 0.2732}\"\n",
      "\n",
      "u\"Answer: It's hard - truthfully the main thing other than work is just making sure that I'm spending enough time with michelle and the girls. The big advantage I have is that I live above the store - so I have no commute! So we make sure that when I'm in DC I never miss dinner with them at 6:30 pm - even if I have to go back down to the Oval for work later in the evening. I do work out every morning as well, and try to get a basketball or golf game in on the weekends just to get out of the bubble. Speaking of balance, though, I need to get going so I'm back in DC in time for dinner. But I want to thank everybody at reddit for participating - this is an example of how technology and the internet can empower the sorts of conversations that strengthen our democracy over the long run. AND REMEMBER TO VOTE IN NOVEMBER - if you need to know how to register, go to Gottaregister.com. By the way, if you want to know what I think about this whole reddit experience - NOT BAD!\"\n",
      "\"Sentiment Score: {'neg': 0.041, 'neu': 0.851, 'pos': 0.107, 'compound': 0.8367}\"\n",
      "\n",
      "=========================================\n",
      "\n",
      "u\"Question: Who's your favourite Basketball player?\"\n",
      "\"Sentiment Score: {'neg': 0.0, 'neu': 1.0, 'pos': 0.0, 'compound': 0.0}\"\n",
      "\n",
      "u\"Answer: Jordan - I'm a Bulls guy.\"\n",
      "\"Sentiment Score: {'neg': 0.0, 'neu': 1.0, 'pos': 0.0, 'compound': 0.0}\"\n",
      "\n",
      "=========================================\n",
      "\n",
      "u\"Question: What's the recipe for the White House's beer?\"\n",
      "\"Sentiment Score: {'neg': 0.0, 'neu': 1.0, 'pos': 0.0, 'compound': 0.0}\"\n",
      "\n",
      "u'Answer: It will be out soon! I can tell from first hand experience, it is tasty.\\n\\nEDIT (by staff): As promised http://www.whitehouse.gov/blog/2012/09/01/ale-chief-white-house-beer-recipe '\n",
      "\"Sentiment Score: {'neg': 0.0, 'neu': 0.75, 'pos': 0.25, 'compound': 0.7177}\"\n",
      "\n",
      "=========================================\n",
      "\n",
      "u'Question: What was the most difficult decision that you had to make during this term?'\n",
      "\"Sentiment Score: {'neg': 0.177, 'neu': 0.823, 'pos': 0.0, 'compound': -0.4201}\"\n",
      "\n",
      "u\"Answer: The decision to surge our forces in afghanistan.  Any time you send our brave men and women into battle, you know that not everyone will come home safely, and that necessarily weighs heavily on you.  The decision did help us blunt the taliban's momentum, and is allowing us to transition to afghan lead - so we will have recovered that surge at the end of this month, and will end the war at the end of 2014.  But knowing of the heroes that have fallen is something you never forget.\"\n",
      "\"Sentiment Score: {'neg': 0.086, 'neu': 0.777, 'pos': 0.137, 'compound': 0.6447}\"\n",
      "\n",
      "=========================================\n",
      "\n",
      "u'Question: Are you considering increasing funds to the space program?\\n\\nEdit: grammar'\n",
      "\"Sentiment Score: {'neg': 0.0, 'neu': 1.0, 'pos': 0.0, 'compound': 0.0}\"\n",
      "\n",
      "u'Answer: Making sure we stay at the forefront of space exploration is a big priority for my administration. The passing of Neil Armstrong this week is a reminder of the inspiration and wonder that our space program has provided in the past; the curiosity probe on mars is a reminder of what remains to be discovered. The key is to make sure that we invest in cutting edge research that can take us to the next level - so even as we continue work with the international space station, we are focused on a potential mission to a asteroid as a prelude to a manned Mars flight.'\n",
      "\"Sentiment Score: {'neg': 0.014, 'neu': 0.868, 'pos': 0.118, 'compound': 0.875}\"\n",
      "\n",
      "=========================================\n",
      "\n",
      "u'Question: What are you going to do to end the corrupting influence of money in politics during your second term? '\n",
      "\"Sentiment Score: {'neg': 0.0, 'neu': 1.0, 'pos': 0.0, 'compound': 0.0}\"\n",
      "\n",
      "u\"Answer: Money has always been a factor in politics, but we are seeing something new in the no-holds barred flow of seven and eight figure checks, most undisclosed, into super-PACs; they fundamentally threaten to overwhelm the political process over the long run and drown out the voices of ordinary citizens. We need to start with passing the Disclose Act that is already written and been sponsored in Congress - to at least force disclosure of who is giving to who. We should also pass legislation prohibiting the bundling of campaign contributions from lobbyists. Over the longer term, I think we need to seriously consider mobilizing a constitutional amendment process to overturn Citizens United (assuming the Supreme Court doesn't revisit it). Even if the amendment process falls short, it can shine a spotlight of the super-PAC phenomenon and help apply pressure for change.\"\n",
      "\"Sentiment Score: {'neg': 0.097, 'neu': 0.806, 'pos': 0.097, 'compound': 0.2263}\"\n",
      "\n",
      "=========================================\n",
      "\n"
     ]
    }
   ],
   "source": [
    "qa_scores(0)"
   ]
  },
  {
   "cell_type": "code",
   "execution_count": null,
   "metadata": {
    "collapsed": true
   },
   "outputs": [],
   "source": []
  }
 ],
 "metadata": {
  "anaconda-cloud": {},
  "kernelspec": {
   "display_name": "Python [conda env:cs4300]",
   "language": "python",
   "name": "conda-env-cs4300-py"
  },
  "language_info": {
   "codemirror_mode": {
    "name": "ipython",
    "version": 2
   },
   "file_extension": ".py",
   "mimetype": "text/x-python",
   "name": "python",
   "nbconvert_exporter": "python",
   "pygments_lexer": "ipython2",
   "version": "2.7.13"
  }
 },
 "nbformat": 4,
 "nbformat_minor": 2
}
