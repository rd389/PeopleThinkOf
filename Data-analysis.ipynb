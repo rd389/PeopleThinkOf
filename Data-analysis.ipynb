{
 "cells": [
  {
   "cell_type": "code",
   "execution_count": 1,
   "metadata": {
    "collapsed": true
   },
   "outputs": [],
   "source": [
    "from __future__ import print_function\n",
    "from nltk.tokenize import TreebankWordTokenizer\n",
    "import numpy as np\n",
    "import json\n",
    "%matplotlib inline\n",
    "import matplotlib.pyplot as plt"
   ]
  },
  {
   "cell_type": "code",
   "execution_count": 3,
   "metadata": {
    "collapsed": true
   },
   "outputs": [],
   "source": [
    "f = open('data.json')\n",
    "data = json.load(f)"
   ]
  },
  {
   "cell_type": "code",
   "execution_count": 4,
   "metadata": {
    "collapsed": false
   },
   "outputs": [
    {
     "data": {
      "text/plain": [
       "[u'category',\n",
       " u'author',\n",
       " u'url',\n",
       " u'text',\n",
       " u'title',\n",
       " u'comments',\n",
       " u'score',\n",
       " u'id']"
      ]
     },
     "execution_count": 4,
     "metadata": {},
     "output_type": "execute_result"
    }
   ],
   "source": [
    "data[0].keys()"
   ]
  },
  {
   "cell_type": "code",
   "execution_count": 5,
   "metadata": {
    "collapsed": false
   },
   "outputs": [
    {
     "data": {
      "text/plain": [
       "[u'body', u'author', u'parent_id', u'depth', u'score', u'id']"
      ]
     },
     "execution_count": 5,
     "metadata": {},
     "output_type": "execute_result"
    }
   ],
   "source": [
    "data[0]['comments'][0].keys()"
   ]
  },
  {
   "cell_type": "code",
   "execution_count": 6,
   "metadata": {
    "collapsed": false
   },
   "outputs": [
    {
     "data": {
      "text/plain": [
       "['test', 'this', 'tokenizer']"
      ]
     },
     "execution_count": 6,
     "metadata": {},
     "output_type": "execute_result"
    }
   ],
   "source": [
    "tokenizer = TreebankWordTokenizer()\n",
    "tokenizer.tokenize(\"test this tokenizer\")"
   ]
  },
  {
   "cell_type": "code",
   "execution_count": 7,
   "metadata": {
    "collapsed": false
   },
   "outputs": [],
   "source": [
    "comment_lengths_OP = []\n",
    "OP_comments = []\n",
    "for d in data:\n",
    "    for c in d['comments']:\n",
    "        if c['author'] == d['author']:\n",
    "            text = tokenizer.tokenize(c['body'])\n",
    "            OP_comments.append((c['author'], text))\n",
    "            comment_lengths_OP.append(len(text))\n",
    "\n",
    "comment_lengths_OP_cutoff = []\n",
    "for i in comment_lengths_OP:\n",
    "    if i >= 30:\n",
    "        comment_lengths_OP_cutoff.append(i)\n",
    "    "
   ]
  },
  {
   "cell_type": "code",
   "execution_count": 8,
   "metadata": {
    "collapsed": false
   },
   "outputs": [
    {
     "name": "stdout",
     "output_type": "stream",
     "text": [
      "4270 4270\n",
      "2636\n"
     ]
    }
   ],
   "source": [
    "print(len(comment_lengths_OP), len(OP_comments))\n",
    "print(len(comment_lengths_OP_cutoff))"
   ]
  },
  {
   "cell_type": "code",
   "execution_count": 9,
   "metadata": {
    "collapsed": false,
    "scrolled": true
   },
   "outputs": [],
   "source": [
    "OP_comment_lengths = np.array(comment_lengths_OP)\n",
    "OP_comment_lengths_cutoff = np.array(comment_lengths_OP_cutoff)"
   ]
  },
  {
   "cell_type": "code",
   "execution_count": 10,
   "metadata": {
    "collapsed": false
   },
   "outputs": [
    {
     "data": {
      "image/png": "[encoded data removed]",
      "text/plain": [
       "<matplotlib.figure.Figure at 0x11f0bb70>"
      ]
     },
     "metadata": {},
     "output_type": "display_data"
    },
    {
     "name": "stdout",
     "output_type": "stream",
     "text": [
      "4270 OP responses total\n",
      "\n"
     ]
    },
    {
     "data": {
      "image/png": "[encoded data removed]",
      "text/plain": [
       "<matplotlib.figure.Figure at 0x21a5208>"
      ]
     },
     "metadata": {},
     "output_type": "display_data"
    },
    {
     "name": "stdout",
     "output_type": "stream",
     "text": [
      "2636 OP responses >= 30 words total\n"
     ]
    }
   ],
   "source": [
    "plt.hist(OP_comment_lengths, bins=50)\n",
    "plt.xlabel('Comment Length')\n",
    "plt.ylabel('Number of Comments')\n",
    "plt.title('Distribution of OP Response Lengths (Top 100 IAMAs)')\n",
    "plt.show()\n",
    "print(len(comment_lengths_OP), 'OP responses total')\n",
    "print()\n",
    "plt.hist(OP_comment_lengths_cutoff, bins=50)\n",
    "plt.xlabel('Comment Length')\n",
    "plt.ylabel('Number of Comments')\n",
    "plt.title('Distribution of OP Response Lengths >= 30 words (Top 100 IAMAs)')\n",
    "plt.show()\n",
    "print(len(comment_lengths_OP_cutoff), 'OP responses >= 30 words total')"
   ]
  },
  {
   "cell_type": "code",
   "execution_count": 11,
   "metadata": {
    "collapsed": true
   },
   "outputs": [],
   "source": [
    "# Do same data analysis on top 1000 amas"
   ]
  },
  {
   "cell_type": "code",
   "execution_count": 2,
   "metadata": {
    "collapsed": true
   },
   "outputs": [],
   "source": [
    "f = open('data-1000.json')\n",
    "data = json.load(f)"
   ]
  },
  {
   "cell_type": "code",
   "execution_count": 3,
   "metadata": {
    "collapsed": true
   },
   "outputs": [],
   "source": [
    "tokenizer = TreebankWordTokenizer()"
   ]
  },
  {
   "cell_type": "code",
   "execution_count": 4,
   "metadata": {
    "collapsed": true
   },
   "outputs": [],
   "source": [
    "comment_lengths_OP = []\n",
    "OP_comments = []\n",
    "for d in data:\n",
    "    for c in d['comments']:\n",
    "        if c['author'] == d['author']:\n",
    "            text = tokenizer.tokenize(c['body'])\n",
    "            OP_comments.append((c['author'], text))\n",
    "            comment_lengths_OP.append(len(text))\n",
    "\n",
    "comment_lengths_OP_cutoff = []\n",
    "for i in comment_lengths_OP:\n",
    "    if i >= 30:\n",
    "        comment_lengths_OP_cutoff.append(i)\n",
    "    "
   ]
  },
  {
   "cell_type": "code",
   "execution_count": 5,
   "metadata": {
    "collapsed": false
   },
   "outputs": [
    {
     "name": "stdout",
     "output_type": "stream",
     "text": [
      "53774 53774\n",
      "27754\n"
     ]
    }
   ],
   "source": [
    "print(len(comment_lengths_OP), len(OP_comments))\n",
    "print(len(comment_lengths_OP_cutoff))"
   ]
  },
  {
   "cell_type": "code",
   "execution_count": 6,
   "metadata": {
    "collapsed": true
   },
   "outputs": [],
   "source": [
    "OP_comment_lengths = np.array(comment_lengths_OP)\n",
    "OP_comment_lengths_cutoff = np.array(comment_lengths_OP_cutoff)"
   ]
  },
  {
   "cell_type": "code",
   "execution_count": 7,
   "metadata": {
    "collapsed": false
   },
   "outputs": [
    {
     "data": {
      "image/png": "[encoded data removed]",
      "text/plain": [
       "<matplotlib.figure.Figure at 0x2761eb38>"
      ]
     },
     "metadata": {},
     "output_type": "display_data"
    },
    {
     "name": "stdout",
     "output_type": "stream",
     "text": [
      "53774 OP responses total\n",
      "\n"
     ]
    },
    {
     "data": {
      "image/png": "[encoded data removed]",
      "text/plain": [
       "<matplotlib.figure.Figure at 0x28939908>"
      ]
     },
     "metadata": {},
     "output_type": "display_data"
    },
    {
     "name": "stdout",
     "output_type": "stream",
     "text": [
      "27754 OP responses >= 30 words total\n"
     ]
    }
   ],
   "source": [
    "plt.hist(OP_comment_lengths, bins=50)\n",
    "plt.xlabel('Comment Length')\n",
    "plt.ylabel('Number of Comments')\n",
    "plt.title('Distribution of OP Response Lengths (Top ~1000 IAMAs)')\n",
    "plt.show()\n",
    "print(len(comment_lengths_OP), 'OP responses total')\n",
    "print()\n",
    "plt.hist(OP_comment_lengths_cutoff, bins=50)\n",
    "plt.xlabel('Comment Length')\n",
    "plt.ylabel('Number of Comments')\n",
    "plt.title('Distribution of OP Response Lengths >= 30 words (Top ~1000 IAMAs)')\n",
    "plt.show()\n",
    "print(len(comment_lengths_OP_cutoff), 'OP responses >= 30 words total')"
   ]
  },
  {
   "cell_type": "code",
   "execution_count": null,
   "metadata": {
    "collapsed": true
   },
   "outputs": [],
   "source": []
  }
 ],
 "metadata": {
  "kernelspec": {
   "display_name": "Python 2",
   "language": "python",
   "name": "python2"
  },
  "language_info": {
   "codemirror_mode": {
    "name": "ipython",
    "version": 2
   },
   "file_extension": ".py",
   "mimetype": "text/x-python",
   "name": "python",
   "nbconvert_exporter": "python",
   "pygments_lexer": "ipython2",
   "version": "2.7.13"
  }
 },
 "nbformat": 4,
 "nbformat_minor": 2
}
